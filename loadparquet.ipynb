{
 "cells": [
  {
   "cell_type": "code",
   "execution_count": 12,
   "metadata": {},
   "outputs": [
    {
     "name": "stdout",
     "output_type": "stream",
     "text": [
      "3.2.1 The NOT Gate (Inverter)\n",
      "Figure 3.4 shows the simplest logic structure that exists in a computer. It is con-\n",
      "structed from two MOS transistors, one P-type and one N-type. Figure 3.4a is the\n",
      "schematic representation of that circuit. Figure 3.4b shows the behavior of the\n",
      "circuit if the input is supplied with 0 volts. Note that the P-type transistor acts\n",
      "like a short circuit and the N-type transistor acts like an open circuit.\n"
     ]
    }
   ],
   "source": [
    "import pandas as pd\n",
    "df=pd.read_parquet('wikidownload.parquet', engine='pyarrow')\n",
    "df=df.head(1000)\n",
    "print(df.head(1000).context[600])\n",
    "#save df as csv\n",
    "\n",
    "# df.to_csv('oafiles.csv', index=False)\n",
    "\n"
   ]
  },
  {
   "cell_type": "code",
   "execution_count": 26,
   "metadata": {},
   "outputs": [
    {
     "data": {
      "text/plain": [
       "(384,)"
      ]
     },
     "execution_count": 26,
     "metadata": {},
     "output_type": "execute_result"
    }
   ],
   "source": [
    "df.head(1).embedding.values[0].shape\n",
    "\n"
   ]
  }
 ],
 "metadata": {
  "kernelspec": {
   "display_name": "Python 3.9.6 64-bit",
   "language": "python",
   "name": "python3"
  },
  "language_info": {
   "codemirror_mode": {
    "name": "ipython",
    "version": 3
   },
   "file_extension": ".py",
   "mimetype": "text/x-python",
   "name": "python",
   "nbconvert_exporter": "python",
   "pygments_lexer": "ipython3",
   "version": "3.9.6"
  },
  "orig_nbformat": 4,
  "vscode": {
   "interpreter": {
    "hash": "31f2aee4e71d21fbe5cf8b01ff0e069b9275f58929596ceb00d14d90e3e16cd6"
   }
  }
 },
 "nbformat": 4,
 "nbformat_minor": 2
}
