{
 "cells": [
  {
   "cell_type": "code",
   "execution_count": null,
   "metadata": {},
   "outputs": [],
   "source": [
    "import pyarrow.parquet as pq\n",
    "import pandas as pd\n",
    "\n",
    "# Define the path to your Parquet file\n",
    "file_path = \"wikidownload.parquet\"\n",
    "\n",
    "# Open the Parquet file\n",
    "parquet_file = pq.ParquetFile(file_path)\n",
    "\n",
    "# Get the total number of rows in the file\n",
    "total_rows = parquet_file.num_row_groups * parquet_file.metadata.num_rows_in_group\n",
    "\n",
    "# Define the number of lines to read\n",
    "lines_to_read = 1000\n",
    "\n",
    "# Adjust the number of lines if it exceeds the total number of rows\n",
    "if lines_to_read > total_rows:\n",
    "    lines_to_read = total_rows\n",
    "\n",
    "# Read the Parquet file and load the first `lines_to_read` lines into a DataFrame\n",
    "df = parquet_file.read_row_group(0, columns=parquet_file.schema.names, use_threads=True, \\\n",
    "    use_pandas_metadata=True, nthreads=1, use_legacy_dataset=False).to_pandas(nthreads=1).head(lines_to_read)\n",
    "\n",
    "# Print the DataFrame\n",
    "print(df)"
   ]
  }
 ],
 "metadata": {
  "language_info": {
   "name": "python"
  },
  "orig_nbformat": 4
 },
 "nbformat": 4,
 "nbformat_minor": 2
}
