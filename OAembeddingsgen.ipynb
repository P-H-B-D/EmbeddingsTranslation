{
 "cells": [
  {
   "cell_type": "markdown",
   "metadata": {},
   "source": [
    "# Data Preprocessing"
   ]
  },
  {
   "cell_type": "markdown",
   "metadata": {},
   "source": [
    "Import data from the GLUE cola dataset, shuffle, and remove the undesirable sentences (those which are labelled to be ungrammatical)."
   ]
  },
  {
   "cell_type": "code",
   "execution_count": 17,
   "metadata": {},
   "outputs": [
    {
     "name": "stdout",
     "output_type": "stream",
     "text": [
      "Number of entries: 1000\n",
      "Number of grammatical entries: 645\n"
     ]
    }
   ],
   "source": [
    "import pandas as pd\n",
    "from sklearn.utils import shuffle\n",
    "\n",
    "# Read the first 100 lines of cola.tsv into a DataFrame\n",
    "df = pd.read_csv('cola.tsv', sep='\\t')\n",
    "\n",
    "# Shuffle the DataFrame\n",
    "df = df.head(1000)\n",
    "\n",
    "df.columns = ['model', 'label', 'blank', 'text']\n",
    "\n",
    "new_df = df[['text', 'label']].copy()\n",
    "\n",
    "print(\"Number of entries:\", len(new_df))\n",
    "\n",
    "filtered_df = new_df[new_df['label'] == 1].copy()\n",
    "\n",
    "filtered_df.head()\n",
    "print(\"Number of grammatical entries:\", len(filtered_df))\n"
   ]
  },
  {
   "cell_type": "markdown",
   "metadata": {},
   "source": [
    "# Embeddings Generation – OS Model"
   ]
  },
  {
   "cell_type": "code",
   "execution_count": 18,
   "metadata": {},
   "outputs": [],
   "source": [
    "import os\n",
    "import openai\n",
    "with open(\"openaiapikey.txt\", \"r\") as file:\n",
    "    file_contents = file.read()\n",
    "openai.api_key = file_contents"
   ]
  },
  {
   "cell_type": "code",
   "execution_count": 19,
   "metadata": {},
   "outputs": [],
   "source": [
    "def get_embedding(text, model=\"text-embedding-ada-002\"):\n",
    "   text = text.replace(\"\\n\", \" \")\n",
    "   return openai.Embedding.create(input = [text], model=model)['data'][0]['embedding']\n",
    "\n",
    "filtered_df['ada_embedding'] = filtered_df.text.apply(lambda x: get_embedding(x, model='text-embedding-ada-002'))\n",
    "filtered_df.to_csv('OAembeddings.csv', index=False)\n"
   ]
  }
 ],
 "metadata": {
  "kernelspec": {
   "display_name": "Python 3.9.6 64-bit",
   "language": "python",
   "name": "python3"
  },
  "language_info": {
   "codemirror_mode": {
    "name": "ipython",
    "version": 3
   },
   "file_extension": ".py",
   "mimetype": "text/x-python",
   "name": "python",
   "nbconvert_exporter": "python",
   "pygments_lexer": "ipython3",
   "version": "3.9.6"
  },
  "orig_nbformat": 4,
  "vscode": {
   "interpreter": {
    "hash": "31f2aee4e71d21fbe5cf8b01ff0e069b9275f58929596ceb00d14d90e3e16cd6"
   }
  }
 },
 "nbformat": 4,
 "nbformat_minor": 2
}
