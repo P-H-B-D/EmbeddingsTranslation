{
 "cells": [
  {
   "cell_type": "code",
   "execution_count": 1,
   "metadata": {},
   "outputs": [],
   "source": [
    "positive_reviews = [\n",
    "    \"This restaurant exceeded my expectations! The food was absolutely delicious, and the service was impeccable.\",\n",
    "    \"I can't recommend this place enough. The ambiance is cozy, the staff is friendly, and the flavors in every dish are simply outstanding.\",\n",
    "    \"The presentation of the food was as amazing as the taste. Each bite was a delightful experience.\",\n",
    "    \"This restaurant has become my go-to spot for special occasions. The menu offers a fantastic variety, and the flavors are consistently on point.\",\n",
    "    \"From the moment we walked in, we were treated like royalty. The staff went above and beyond to ensure our dining experience was exceptional.\",\n",
    "    \"If you're a foodie, you must try this place! The chef's creativity shines through in every dish.\",\n",
    "    \"I'm blown away by the quality of ingredients used in their dishes. Freshness and flavor are their top priorities.\",\n",
    "    \"The attention to detail in every aspect of this restaurant is impressive. The decor, the plating, and the service all contribute to a memorable meal.\",\n",
    "    \"The atmosphere is perfect for a romantic date night. Candlelit tables and soft music create a charming ambiance.\",\n",
    "    \"I had the best seafood of my life at this restaurant. The flavors were sublime, and the seafood was cooked to perfection.\",\n",
    "    \"The portion sizes are generous, and the prices are reasonable for the quality of food served.\",\n",
    "    \"I can't get enough of their desserts! They are heavenly and beautifully presented.\",\n",
    "    \"This place has a great wine selection. The sommelier's recommendations perfectly complemented our meals.\",\n",
    "    \"The staff here is knowledgeable and passionate about the menu. They are always ready to offer suggestions and answer any questions.\",\n",
    "    \"This restaurant has a warm and inviting atmosphere that makes you feel right at home.\",\n",
    "    \"The fusion of flavors in their dishes is truly remarkable. Each bite is a burst of culinary creativity.\",\n",
    "    \"I love how this restaurant supports local farmers and sources their ingredients sustainably. It's great to see their commitment to the community.\",\n",
    "    \"The menu caters to various dietary preferences, with plenty of options for vegetarians and vegans.\",\n",
    "    \"The waitstaff was attentive and ensured that all our needs were met. The service was prompt and friendly.\",\n",
    "    \"I had a fantastic dining experience at this restaurant. It's clear that the chef has a passion for food and a talent for creating memorable dishes.\",\n",
    "    \"The ambiance is vibrant and energetic, making it a perfect spot for a fun night out with friends.\",\n",
    "    \"I appreciate how they accommodate special requests. They went out of their way to prepare a dish exactly as I wanted.\",\n",
    "    \"The attention given to food allergies and sensitivities is commendable. They took great care to ensure our meals were safe for consumption.\",\n",
    "    \"The flavors in their dishes are well-balanced and nuanced. It's evident that a lot of thought goes into each creation.\",\n",
    "    \"The waitstaff was friendly and knowledgeable about the menu. They provided excellent recommendations and made our dining experience memorable.\"\n",
    "]\n",
    "\n",
    "negative_reviews = [\n",
    "    \"I had high hopes for this restaurant, but the food was disappointing. The flavors were bland, and the dishes lacked creativity.\",\n",
    "    \"The service at this restaurant was slow and inattentive. It took forever to get our orders, and we had to repeatedly ask for refills.\",\n",
    "    \"The portion sizes were incredibly small, especially for the price. I left feeling hungry and unsatisfied.\",\n",
    "    \"The ambiance was loud and chaotic, making it hard to have a conversation without shouting.\",\n",
    "    \"The food was overcooked and lacked seasoning. It seemed like it had been sitting under a heat lamp for too long.\",\n",
    "    \"I had a terrible experience at this restaurant. The staff was rude, and they seemed more interested in chatting amongst themselves than attending to customers.\",\n",
    "    \"The menu was limited, and there weren't many options for vegetarians. It was disappointing to see such a lack of variety.\",\n",
    "    \"The restaurant was poorly maintained, with dirty tables and a strong odor. It didn't create a pleasant dining atmosphere.\",\n",
    "    \"The prices were exorbitant for the quality of food served. I expected much more for the amount I paid.\",\n",
    "    \"The waitstaff seemed untrained and confused. They got our orders wrong and forgot to bring some items we requested.\",\n",
    "    \"The presentation of the dishes was sloppy, and it didn't match the pictures in the menu. It felt like false advertising.\",\n",
    "    \"The drinks were watered down, and the bartender seemed inexperienced. It was a letdown considering the reputation of the place.\",\n",
    "    \"The restaurant was understaffed, leading to long wait times and slow service. It was frustrating to see tables around us receiving their orders before ours.\",\n",
    "    \"The food arrived cold, and when we asked for it to be reheated, it came back even worse. The kitchen clearly lacked attention to detail.\",\n",
    "    \"The restaurant didn't accommodate my dietary restrictions, despite mentioning them during the reservation. It limited my options and made me feel neglected.\",\n",
    "    \"The flavors in the dishes were unbalanced and overwhelming. It seemed like they were trying too hard to be innovative and missed the mark.\",\n",
    "    \"The cleanliness of the restroom was questionable. It was unhygienic and didn't give me confidence in the overall cleanliness of the establishment.\",\n",
    "    \"The restaurant was poorly lit, making it difficult to read the menu or appreciate the presentation of the dishes.\",\n",
    "    \"The desserts were a disappointment. They were dry and lacked the indulgence I expected.\",\n",
    "    \"The restaurant had a strange smell, which made it difficult to enjoy the food. It detracted from the overall dining experience.\",\n",
    "    \"The waitstaff seemed disinterested and unengaged. It felt like they were just going through the motions without any passion for their job.\",\n",
    "    \"The prices on the menu didn't match what we were charged. It felt like a sneaky tactic to make extra money.\",\n",
    "    \"The restaurant had a limited wine selection, and the options available were overpriced for their quality.\",\n",
    "    \"The tables were too close together, and it felt like we were dining with the people at the neighboring tables. It lacked privacy.\",\n",
    "    \"The restaurant didn't have a kids' menu or any child-friendly options. It made it challenging to dine out with my family.\"\n",
    "]"
   ]
  },
  {
   "cell_type": "code",
   "execution_count": null,
   "metadata": {},
   "outputs": [],
   "source": [
    "#combine \n",
    "\n",
    "df[\"embedding\"] = df.embedding.apply(eval).apply(np.array)  # convert string to numpy array\n",
    "matrix = np.vstack(df.embedding.values)\n",
    "matrix.shape"
   ]
  },
  {
   "cell_type": "code",
   "execution_count": null,
   "metadata": {},
   "outputs": [],
   "source": [
    "\n",
    "import numpy as np\n",
    "from sklearn.cluster import KMeans\n",
    "\n",
    "matrix = np.vstack(df.ada_embedding.values)\n",
    "n_clusters = 4\n",
    "\n",
    "kmeans = KMeans(n_clusters = n_clusters, init='k-means++', random_state=42)\n",
    "kmeans.fit(matrix)\n",
    "df['Cluster'] = kmeans.labels_"
   ]
  },
  {
   "cell_type": "code",
   "execution_count": null,
   "metadata": {},
   "outputs": [],
   "source": [
    "from sklearn.manifold import TSNE\n",
    "import matplotlib\n",
    "import matplotlib.pyplot as plt\n",
    "\n",
    "tsne = TSNE(n_components=2, perplexity=15, random_state=42, init=\"random\", learning_rate=200)\n",
    "vis_dims2 = tsne.fit_transform(matrix)\n",
    "\n",
    "x = [x for x, y in vis_dims2]\n",
    "y = [y for x, y in vis_dims2]\n",
    "\n",
    "for category, color in enumerate([\"purple\", \"green\", \"red\", \"blue\"]):\n",
    "    xs = np.array(x)[df.Cluster == category]\n",
    "    ys = np.array(y)[df.Cluster == category]\n",
    "    plt.scatter(xs, ys, color=color, alpha=0.3)\n",
    "\n",
    "    avg_x = xs.mean()\n",
    "    avg_y = ys.mean()\n",
    "\n",
    "    plt.scatter(avg_x, avg_y, marker=\"x\", color=color, s=100)\n",
    "plt.title(\"Clusters identified visualized in language 2d using t-SNE\")"
   ]
  }
 ],
 "metadata": {
  "kernelspec": {
   "display_name": "Python 3.9.6 64-bit",
   "language": "python",
   "name": "python3"
  },
  "language_info": {
   "codemirror_mode": {
    "name": "ipython",
    "version": 3
   },
   "file_extension": ".py",
   "mimetype": "text/x-python",
   "name": "python",
   "nbconvert_exporter": "python",
   "pygments_lexer": "ipython3",
   "version": "3.9.6"
  },
  "orig_nbformat": 4,
  "vscode": {
   "interpreter": {
    "hash": "31f2aee4e71d21fbe5cf8b01ff0e069b9275f58929596ceb00d14d90e3e16cd6"
   }
  }
 },
 "nbformat": 4,
 "nbformat_minor": 2
}
