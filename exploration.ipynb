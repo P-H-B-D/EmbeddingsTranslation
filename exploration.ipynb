{
 "cells": [
  {
   "cell_type": "markdown",
   "metadata": {},
   "source": [
    "# Data Preprocessing"
   ]
  },
  {
   "cell_type": "markdown",
   "metadata": {},
   "source": [
    "Import data from the GLUE cola dataset, shuffle, and remove the undesirable sentences (those which are labelled to be ungrammatical)."
   ]
  },
  {
   "cell_type": "code",
   "execution_count": 21,
   "metadata": {},
   "outputs": [
    {
     "name": "stdout",
     "output_type": "stream",
     "text": [
      "Number of entries: 1000\n",
      "Number of grammatical entries: 709\n"
     ]
    }
   ],
   "source": [
    "import pandas as pd\n",
    "from sklearn.utils import shuffle\n",
    "\n",
    "# Read the first 100 lines of cola.tsv into a DataFrame\n",
    "df = pd.read_csv('cola.tsv', sep='\\t')\n",
    "\n",
    "# Shuffle the DataFrame\n",
    "df = shuffle(df).head(1000)\n",
    "\n",
    "df.columns = ['model', 'label', 'blank', 'text']\n",
    "\n",
    "new_df = df[['text', 'label']].copy()\n",
    "\n",
    "print(\"Number of entries:\", len(new_df))\n",
    "\n",
    "filtered_df = new_df[new_df['label'] == 1].copy()\n",
    "\n",
    "filtered_df.head()\n",
    "print(\"Number of grammatical entries:\", len(filtered_df))\n",
    "\n",
    "\n"
   ]
  },
  {
   "cell_type": "markdown",
   "metadata": {},
   "source": [
    "# Embeddings "
   ]
  },
  {
   "cell_type": "code",
   "execution_count": null,
   "metadata": {},
   "outputs": [],
   "source": [
    "from sentence_transformers import SentenceTransformer\n",
    "model = SentenceTransformer('sentence-transformers/all-mpnet-base-v2')"
   ]
  },
  {
   "cell_type": "code",
   "execution_count": 23,
   "metadata": {},
   "outputs": [
    {
     "name": "stdout",
     "output_type": "stream",
     "text": [
      "['Harriet alternated folk songs with pop songs.'\n",
      " 'We like our friends and they like our friends too.'\n",
      " 'So fast did you run that everyone gasped.'\n",
      " 'The paper incorporates the new results.'\n",
      " 'Agamemnon expected Esther to seem to be happy.'\n",
      " 'It was the policeman that met several young students in the park last night.'\n",
      " 'How suspicious was Mary?' 'I hit the ball.'\n",
      " 'If Jim feels good, he will go.'\n",
      " 'I told Daniel that the exam was cancelled.']\n"
     ]
    }
   ],
   "source": [
    "text_array = filtered_df['text'].values\n",
    "print(text_array[0:10])\n"
   ]
  }
 ],
 "metadata": {
  "kernelspec": {
   "display_name": "Python 3.9.6 64-bit",
   "language": "python",
   "name": "python3"
  },
  "language_info": {
   "codemirror_mode": {
    "name": "ipython",
    "version": 3
   },
   "file_extension": ".py",
   "mimetype": "text/x-python",
   "name": "python",
   "nbconvert_exporter": "python",
   "pygments_lexer": "ipython3",
   "version": "3.9.6"
  },
  "orig_nbformat": 4,
  "vscode": {
   "interpreter": {
    "hash": "31f2aee4e71d21fbe5cf8b01ff0e069b9275f58929596ceb00d14d90e3e16cd6"
   }
  }
 },
 "nbformat": 4,
 "nbformat_minor": 2
}
