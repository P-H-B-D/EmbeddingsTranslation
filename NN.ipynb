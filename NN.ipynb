{
 "cells": [
  {
   "cell_type": "markdown",
   "metadata": {},
   "source": [
    "# Data Preprocessing"
   ]
  },
  {
   "cell_type": "code",
   "execution_count": 9,
   "metadata": {},
   "outputs": [],
   "source": [
    "#load CompositeEmbeddings.csv into a dataframe\n",
    "import pandas as pd\n",
    "import numpy as np\n",
    "import ast\n",
    "from sklearn.model_selection import train_test_split\n",
    "df = pd.read_csv('CompositeEmbeddings.csv')\n",
    "\n",
    "# define a function to convert string to list\n",
    "def str_to_list(s):\n",
    "    s = s.strip('[]')\n",
    "    s_list = s.split()\n",
    "    return [np.float64(i) for i in s_list]\n",
    "\n",
    "df['sbert_embedding'] = df['sbert_embedding'].apply(lambda x: ast.literal_eval(x))\n",
    "df['mpnet_embedding'] = df['mpnet_embedding'].apply(str_to_list)\n",
    "df.rename(columns={'sbert_embedding':'train_y', 'mpnet_embedding':'train_x'}, inplace=True)\n",
    "\n",
    "#get train_x and train_y as numpy arrays\n",
    "train_x = np.array(df['train_x'].tolist())\n",
    "train_y = np.array(df['train_y'].tolist())\n",
    "\n",
    "# split your data into training and test sets\n",
    "train_x, test_x, train_y, test_y = train_test_split(train_x, train_y, test_size=0.2, random_state=42)\n",
    "\n",
    "#x: sbert_embedding (768 dim)\n",
    "#y: mpnet_embedding (384 dim)"
   ]
  },
  {
   "cell_type": "markdown",
   "metadata": {},
   "source": [
    "# Neural Net"
   ]
  },
  {
   "cell_type": "code",
   "execution_count": 10,
   "metadata": {},
   "outputs": [
    {
     "name": "stdout",
     "output_type": "stream",
     "text": [
      "Epoch 1/50\n",
      "125/125 [==============================] - 1s 8ms/step - loss: -0.3381 - val_loss: -0.5327\n",
      "Epoch 2/50\n",
      "125/125 [==============================] - 1s 7ms/step - loss: -0.5157 - val_loss: -0.5960\n",
      "Epoch 3/50\n",
      "125/125 [==============================] - 1s 7ms/step - loss: -0.5656 - val_loss: -0.6204\n",
      "Epoch 4/50\n",
      "125/125 [==============================] - 1s 7ms/step - loss: -0.5943 - val_loss: -0.6382\n",
      "Epoch 5/50\n",
      "125/125 [==============================] - 1s 7ms/step - loss: -0.6131 - val_loss: -0.6490\n",
      "Epoch 6/50\n",
      "125/125 [==============================] - 1s 7ms/step - loss: -0.6275 - val_loss: -0.6572\n",
      "Epoch 7/50\n",
      "125/125 [==============================] - 1s 7ms/step - loss: -0.6391 - val_loss: -0.6626\n",
      "Epoch 8/50\n",
      "125/125 [==============================] - 1s 8ms/step - loss: -0.6469 - val_loss: -0.6667\n",
      "Epoch 9/50\n",
      "125/125 [==============================] - 1s 7ms/step - loss: -0.6557 - val_loss: -0.6723\n",
      "Epoch 10/50\n",
      "125/125 [==============================] - 1s 7ms/step - loss: -0.6630 - val_loss: -0.6752\n",
      "Epoch 11/50\n",
      "125/125 [==============================] - 1s 7ms/step - loss: -0.6687 - val_loss: -0.6773\n",
      "Epoch 12/50\n",
      "125/125 [==============================] - 1s 7ms/step - loss: -0.6743 - val_loss: -0.6805\n",
      "Epoch 13/50\n",
      "125/125 [==============================] - 1s 7ms/step - loss: -0.6778 - val_loss: -0.6824\n",
      "Epoch 14/50\n",
      "125/125 [==============================] - 1s 7ms/step - loss: -0.6816 - val_loss: -0.6844\n",
      "Epoch 15/50\n",
      "125/125 [==============================] - 1s 7ms/step - loss: -0.6861 - val_loss: -0.6864\n",
      "Epoch 16/50\n",
      "125/125 [==============================] - 1s 7ms/step - loss: -0.6885 - val_loss: -0.6879\n",
      "Epoch 17/50\n",
      "125/125 [==============================] - 1s 7ms/step - loss: -0.6918 - val_loss: -0.6889\n",
      "Epoch 18/50\n",
      "125/125 [==============================] - 1s 7ms/step - loss: -0.6947 - val_loss: -0.6900\n",
      "Epoch 19/50\n",
      "125/125 [==============================] - 1s 7ms/step - loss: -0.6967 - val_loss: -0.6910\n",
      "Epoch 20/50\n",
      "125/125 [==============================] - 1s 7ms/step - loss: -0.6999 - val_loss: -0.6919\n",
      "Epoch 21/50\n",
      "125/125 [==============================] - 1s 7ms/step - loss: -0.7021 - val_loss: -0.6924\n",
      "Epoch 22/50\n",
      "125/125 [==============================] - 1s 7ms/step - loss: -0.7046 - val_loss: -0.6942\n",
      "Epoch 23/50\n",
      "125/125 [==============================] - 1s 7ms/step - loss: -0.7056 - val_loss: -0.6946\n",
      "Epoch 24/50\n",
      "125/125 [==============================] - 1s 7ms/step - loss: -0.7085 - val_loss: -0.6959\n",
      "Epoch 25/50\n",
      "125/125 [==============================] - 1s 7ms/step - loss: -0.7094 - val_loss: -0.6965\n",
      "Epoch 26/50\n",
      "125/125 [==============================] - 1s 7ms/step - loss: -0.7106 - val_loss: -0.6973\n",
      "Epoch 27/50\n",
      "125/125 [==============================] - 1s 7ms/step - loss: -0.7122 - val_loss: -0.6974\n",
      "Epoch 28/50\n",
      "125/125 [==============================] - 1s 7ms/step - loss: -0.7145 - val_loss: -0.6986\n",
      "Epoch 29/50\n",
      "125/125 [==============================] - 1s 7ms/step - loss: -0.7146 - val_loss: -0.6989\n",
      "Epoch 30/50\n",
      "125/125 [==============================] - 1s 8ms/step - loss: -0.7165 - val_loss: -0.6991\n",
      "Epoch 31/50\n",
      "125/125 [==============================] - 1s 8ms/step - loss: -0.7185 - val_loss: -0.6997\n",
      "Epoch 32/50\n",
      "125/125 [==============================] - 1s 8ms/step - loss: -0.7195 - val_loss: -0.7007\n",
      "Epoch 33/50\n",
      "125/125 [==============================] - 1s 7ms/step - loss: -0.7194 - val_loss: -0.7000\n",
      "Epoch 34/50\n",
      "125/125 [==============================] - 1s 7ms/step - loss: -0.7203 - val_loss: -0.7008\n",
      "Epoch 35/50\n",
      "125/125 [==============================] - 1s 7ms/step - loss: -0.7223 - val_loss: -0.7011\n",
      "Epoch 36/50\n",
      "125/125 [==============================] - 1s 7ms/step - loss: -0.7225 - val_loss: -0.7008\n",
      "Epoch 37/50\n",
      "125/125 [==============================] - 1s 7ms/step - loss: -0.7246 - val_loss: -0.7014\n",
      "Epoch 38/50\n",
      "125/125 [==============================] - 1s 7ms/step - loss: -0.7259 - val_loss: -0.7022\n",
      "Epoch 39/50\n",
      "125/125 [==============================] - 1s 7ms/step - loss: -0.7265 - val_loss: -0.7029\n",
      "Epoch 40/50\n",
      "125/125 [==============================] - 1s 8ms/step - loss: -0.7270 - val_loss: -0.7030\n",
      "Epoch 41/50\n",
      "125/125 [==============================] - 1s 7ms/step - loss: -0.7280 - val_loss: -0.7036\n",
      "Epoch 42/50\n",
      "125/125 [==============================] - 1s 8ms/step - loss: -0.7286 - val_loss: -0.7034\n",
      "Epoch 43/50\n",
      "125/125 [==============================] - 1s 8ms/step - loss: -0.7294 - val_loss: -0.7042\n",
      "Epoch 44/50\n",
      "125/125 [==============================] - 1s 7ms/step - loss: -0.7292 - val_loss: -0.7048\n",
      "Epoch 45/50\n",
      "125/125 [==============================] - 1s 7ms/step - loss: -0.7306 - val_loss: -0.7053\n",
      "Epoch 46/50\n",
      "125/125 [==============================] - 1s 7ms/step - loss: -0.7311 - val_loss: -0.7053\n",
      "Epoch 47/50\n",
      "125/125 [==============================] - 1s 7ms/step - loss: -0.7312 - val_loss: -0.7052\n",
      "Epoch 48/50\n",
      "125/125 [==============================] - 1s 7ms/step - loss: -0.7318 - val_loss: -0.7055\n",
      "Epoch 49/50\n",
      "125/125 [==============================] - 1s 7ms/step - loss: -0.7332 - val_loss: -0.7056\n",
      "Epoch 50/50\n",
      "125/125 [==============================] - 1s 7ms/step - loss: -0.7333 - val_loss: -0.7056\n"
     ]
    },
    {
     "data": {
      "image/png": "[encoded data removed]",
      "text/plain": [
       "<Figure size 640x480 with 1 Axes>"
      ]
     },
     "metadata": {},
     "output_type": "display_data"
    }
   ],
   "source": [
    "from keras.models import Sequential\n",
    "from keras.layers import Dense, Dropout\n",
    "from keras.optimizers import Adam\n",
    "from keras.regularizers import l2\n",
    "from keras.callbacks import EarlyStopping\n",
    "import tensorflow as tf\n",
    "import matplotlib.pyplot as plt\n",
    "\n",
    "# create an instance of the Adam optimizer with a custom learning rate\n",
    "# opt = Adam(learning_rate=0.001)  # change this to your desired learning rate\n",
    "\n",
    "def cosine_similarity_loss(y_true, y_pred):\n",
    "    y_true = tf.nn.l2_normalize(y_true, axis=-1)\n",
    "    y_pred = tf.nn.l2_normalize(y_pred, axis=-1)\n",
    "    return -tf.reduce_mean(tf.reduce_sum(y_true * y_pred, axis=-1))\n",
    "\n",
    "# Initialize the constructor\n",
    "model = Sequential()\n",
    "\n",
    "\n",
    "# Add an first hidden layer \n",
    "model.add(Dense(1024, activation='relu', input_shape=(768,), kernel_regularizer=l2(0.00)))\n",
    "\n",
    "# Add a dropout layer for regularization\n",
    "model.add(Dropout(0.5))\n",
    "\n",
    "# Add a second hidden layer\n",
    "model.add(Dense(1023, activation='relu', kernel_regularizer=l2(0.00)))\n",
    "\n",
    "# Add a dropout layer for regularization\n",
    "model.add(Dropout(0.5))\n",
    "\n",
    "\n",
    "# Add an output layer \n",
    "model.add(Dense(384, activation='linear'))\n",
    "\n",
    "# compile model\n",
    "model.compile(loss=cosine_similarity_loss, optimizer=tf.keras.optimizers.legacy.Adam(learning_rate=0.001))\n",
    "\n",
    "# add early stopping\n",
    "es = EarlyStopping(monitor='val_loss', mode='min', verbose=1, patience=50)\n",
    "\n",
    "# fit the model to the training data\n",
    "history = model.fit(train_x, train_y, validation_data=(test_x, test_y), epochs=50, batch_size=32, callbacks=[es])\n",
    "\n",
    "# plot the training loss\n",
    "plt.plot(history.history['loss'])\n",
    "# plot the validation loss\n",
    "plt.plot(history.history['val_loss'])\n",
    "plt.title('Model loss')\n",
    "plt.ylabel('Loss')\n",
    "plt.xlabel('Epoch')\n",
    "plt.legend(['Train', 'Test'], loc='upper right')\n",
    "plt.show()"
   ]
  },
  {
   "cell_type": "code",
   "execution_count": 11,
   "metadata": {},
   "outputs": [
    {
     "name": "stdout",
     "output_type": "stream",
     "text": [
      "Average Cosine Similarity:  0.0421793743404727\n"
     ]
    }
   ],
   "source": [
    "import numpy as np\n",
    "\n",
    "def avg_cosine_similarity(vectors):\n",
    "    similarities = []\n",
    "    for i in range(len(vectors) - 1):\n",
    "        for j in range(i+1, len(vectors)):\n",
    "            similarity = np.dot(vectors[i], vectors[j]) / (np.linalg.norm(vectors[i]) * np.linalg.norm(vectors[j]))\n",
    "            similarities.append(similarity)\n",
    "    return np.mean(similarities)\n",
    "\n",
    "avg_cos_sim = avg_cosine_similarity(train_y)\n",
    "print(\"Average Cosine Similarity: \", avg_cos_sim)"
   ]
  },
  {
   "cell_type": "code",
   "execution_count": 13,
   "metadata": {},
   "outputs": [
    {
     "name": "stdout",
     "output_type": "stream",
     "text": [
      "768\n",
      "384\n"
     ]
    }
   ],
   "source": [
    "from sentence_transformers import SentenceTransformer\n",
    "mpnet_model = SentenceTransformer('sentence-transformers/all-mpnet-base-v2')\n",
    "\n",
    "encoding_target = [\"hello, how are you doing today?\"]\n",
    "mpnet_encoded_data = [mpnet_model.encode(x) for x in encoding_target]\n",
    "\n",
    "\n",
    "sbert_model = SentenceTransformer('sentence-transformers/all-MiniLM-L6-v2')\n",
    "sbert_encoded_data = [sbert_model.encode(x) for x in encoding_target]\n",
    "\n",
    "#input: mpnet encoded.\n",
    "#output: sbert encoded.\n",
    "\n",
    "#forward pass (mpnet) -> pseudo-sbert\n",
    "#cosine similarity between sbert and pseudo sbert\n",
    "\n",
    "print(len(mpnet_encoded_data[0]))\n",
    "print(len(sbert_encoded_data[0]))"
   ]
  },
  {
   "cell_type": "code",
   "execution_count": 17,
   "metadata": {},
   "outputs": [
    {
     "ename": "AttributeError",
     "evalue": "'list' object has no attribute 'shape'",
     "output_type": "error",
     "traceback": [
      "\u001b[0;31m---------------------------------------------------------------------------\u001b[0m",
      "\u001b[0;31mAttributeError\u001b[0m                            Traceback (most recent call last)",
      "Cell \u001b[0;32mIn [17], line 1\u001b[0m\n\u001b[0;32m----> 1\u001b[0m \u001b[39mprint\u001b[39m(sbert_encoded_data\u001b[39m.\u001b[39;49mshape())\n\u001b[1;32m      2\u001b[0m \u001b[39m# predictions = model.predict()\u001b[39;00m\n\u001b[1;32m      3\u001b[0m \u001b[39m# model.summary()\u001b[39;00m\n",
      "\u001b[0;31mAttributeError\u001b[0m: 'list' object has no attribute 'shape'"
     ]
    }
   ],
   "source": [
    "\n",
    "# predictions = model.predict()\n",
    "# model.summary()"
   ]
  }
 ],
 "metadata": {
  "kernelspec": {
   "display_name": "Python 3.9.6 64-bit",
   "language": "python",
   "name": "python3"
  },
  "language_info": {
   "codemirror_mode": {
    "name": "ipython",
    "version": 3
   },
   "file_extension": ".py",
   "mimetype": "text/x-python",
   "name": "python",
   "nbconvert_exporter": "python",
   "pygments_lexer": "ipython3",
   "version": "3.9.6"
  },
  "orig_nbformat": 4,
  "vscode": {
   "interpreter": {
    "hash": "31f2aee4e71d21fbe5cf8b01ff0e069b9275f58929596ceb00d14d90e3e16cd6"
   }
  }
 },
 "nbformat": 4,
 "nbformat_minor": 2
}
