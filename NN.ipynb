{
 "cells": [
  {
   "cell_type": "markdown",
   "metadata": {},
   "source": [
    "# Data Preprocessing"
   ]
  },
  {
   "cell_type": "code",
   "execution_count": 6,
   "metadata": {},
   "outputs": [],
   "source": [
    "#load CompositeEmbeddings.csv into a dataframe\n",
    "import pandas as pd\n",
    "import numpy as np\n",
    "import ast\n",
    "from sklearn.model_selection import train_test_split\n",
    "df = pd.read_csv('CompositeEmbeddings.csv')\n",
    "\n",
    "# define a function to convert string to list\n",
    "def str_to_list(s):\n",
    "    s = s.strip('[]')\n",
    "    s_list = s.split()\n",
    "    return [np.float64(i) for i in s_list]\n",
    "\n",
    "df['sbert_embedding'] = df['sbert_embedding'].apply(lambda x: ast.literal_eval(x))\n",
    "df['mpnet_embedding'] = df['mpnet_embedding'].apply(str_to_list)\n",
    "df.rename(columns={'sbert_embedding':'train_y', 'mpnet_embedding':'train_x'}, inplace=True)\n",
    "\n",
    "#get train_x and train_y as numpy arrays\n",
    "train_x = np.array(df['train_x'].tolist())\n",
    "train_y = np.array(df['train_y'].tolist())\n",
    "\n",
    "# split your data into training and test sets\n",
    "train_x, test_x, train_y, test_y = train_test_split(train_x, train_y, test_size=0.2, random_state=42)\n",
    "\n",
    "#x: sbert_embedding (768 dim)\n",
    "#y: mpnet_embedding (384 dim)"
   ]
  },
  {
   "cell_type": "markdown",
   "metadata": {},
   "source": [
    "# Neural Net"
   ]
  },
  {
   "cell_type": "code",
   "execution_count": 7,
   "metadata": {},
   "outputs": [
    {
     "name": "stdout",
     "output_type": "stream",
     "text": [
      "Epoch 1/50\n",
      "125/125 [==============================] - 1s 7ms/step - loss: -0.3384 - val_loss: -0.5286\n",
      "Epoch 2/50\n",
      "125/125 [==============================] - 1s 6ms/step - loss: -0.5147 - val_loss: -0.5941\n",
      "Epoch 3/50\n",
      "125/125 [==============================] - 1s 7ms/step - loss: -0.5647 - val_loss: -0.6208\n",
      "Epoch 4/50\n",
      "125/125 [==============================] - 1s 7ms/step - loss: -0.5925 - val_loss: -0.6367\n",
      "Epoch 5/50\n",
      "125/125 [==============================] - 1s 7ms/step - loss: -0.6118 - val_loss: -0.6477\n",
      "Epoch 6/50\n",
      "125/125 [==============================] - 1s 7ms/step - loss: -0.6261 - val_loss: -0.6560\n",
      "Epoch 7/50\n",
      "125/125 [==============================] - 1s 7ms/step - loss: -0.6375 - val_loss: -0.6622\n",
      "Epoch 8/50\n",
      "125/125 [==============================] - 1s 6ms/step - loss: -0.6468 - val_loss: -0.6676\n",
      "Epoch 9/50\n",
      "125/125 [==============================] - 1s 6ms/step - loss: -0.6548 - val_loss: -0.6716\n",
      "Epoch 10/50\n",
      "125/125 [==============================] - 1s 7ms/step - loss: -0.6628 - val_loss: -0.6744\n",
      "Epoch 11/50\n",
      "125/125 [==============================] - 1s 7ms/step - loss: -0.6683 - val_loss: -0.6765\n",
      "Epoch 12/50\n",
      "125/125 [==============================] - 1s 7ms/step - loss: -0.6724 - val_loss: -0.6799\n",
      "Epoch 13/50\n",
      "125/125 [==============================] - 1s 6ms/step - loss: -0.6778 - val_loss: -0.6824\n",
      "Epoch 14/50\n",
      "125/125 [==============================] - 1s 7ms/step - loss: -0.6823 - val_loss: -0.6838\n",
      "Epoch 15/50\n",
      "125/125 [==============================] - 1s 6ms/step - loss: -0.6861 - val_loss: -0.6859\n",
      "Epoch 16/50\n",
      "125/125 [==============================] - 1s 6ms/step - loss: -0.6889 - val_loss: -0.6869\n",
      "Epoch 17/50\n",
      "125/125 [==============================] - 1s 6ms/step - loss: -0.6921 - val_loss: -0.6880\n",
      "Epoch 18/50\n",
      "125/125 [==============================] - 1s 6ms/step - loss: -0.6951 - val_loss: -0.6894\n",
      "Epoch 19/50\n",
      "125/125 [==============================] - 1s 7ms/step - loss: -0.6970 - val_loss: -0.6909\n",
      "Epoch 20/50\n",
      "125/125 [==============================] - 1s 7ms/step - loss: -0.7001 - val_loss: -0.6924\n",
      "Epoch 21/50\n",
      "125/125 [==============================] - 1s 7ms/step - loss: -0.7013 - val_loss: -0.6928\n",
      "Epoch 22/50\n",
      "125/125 [==============================] - 1s 7ms/step - loss: -0.7030 - val_loss: -0.6940\n",
      "Epoch 23/50\n",
      "125/125 [==============================] - 1s 6ms/step - loss: -0.7061 - val_loss: -0.6961\n",
      "Epoch 24/50\n",
      "125/125 [==============================] - 1s 6ms/step - loss: -0.7078 - val_loss: -0.6958\n",
      "Epoch 25/50\n",
      "125/125 [==============================] - 1s 6ms/step - loss: -0.7096 - val_loss: -0.6968\n",
      "Epoch 26/50\n",
      "125/125 [==============================] - 1s 7ms/step - loss: -0.7108 - val_loss: -0.6968\n",
      "Epoch 27/50\n",
      "125/125 [==============================] - 1s 6ms/step - loss: -0.7121 - val_loss: -0.6972\n",
      "Epoch 28/50\n",
      "125/125 [==============================] - 1s 7ms/step - loss: -0.7132 - val_loss: -0.6978\n",
      "Epoch 29/50\n",
      "125/125 [==============================] - 1s 6ms/step - loss: -0.7151 - val_loss: -0.6985\n",
      "Epoch 30/50\n",
      "125/125 [==============================] - 1s 7ms/step - loss: -0.7160 - val_loss: -0.6984\n",
      "Epoch 31/50\n",
      "125/125 [==============================] - 1s 7ms/step - loss: -0.7169 - val_loss: -0.6995\n",
      "Epoch 32/50\n",
      "125/125 [==============================] - 1s 7ms/step - loss: -0.7186 - val_loss: -0.7002\n",
      "Epoch 33/50\n",
      "125/125 [==============================] - 1s 7ms/step - loss: -0.7199 - val_loss: -0.6998\n",
      "Epoch 34/50\n",
      "125/125 [==============================] - 1s 7ms/step - loss: -0.7208 - val_loss: -0.7004\n",
      "Epoch 35/50\n",
      "125/125 [==============================] - 1s 7ms/step - loss: -0.7213 - val_loss: -0.7009\n",
      "Epoch 36/50\n",
      "125/125 [==============================] - 1s 6ms/step - loss: -0.7227 - val_loss: -0.7015\n",
      "Epoch 37/50\n",
      "125/125 [==============================] - 1s 6ms/step - loss: -0.7235 - val_loss: -0.7018\n",
      "Epoch 38/50\n",
      "125/125 [==============================] - 1s 7ms/step - loss: -0.7250 - val_loss: -0.7026\n",
      "Epoch 39/50\n",
      "125/125 [==============================] - 1s 7ms/step - loss: -0.7260 - val_loss: -0.7025\n",
      "Epoch 40/50\n",
      "125/125 [==============================] - 1s 7ms/step - loss: -0.7266 - val_loss: -0.7030\n",
      "Epoch 41/50\n",
      "125/125 [==============================] - 1s 7ms/step - loss: -0.7278 - val_loss: -0.7027\n",
      "Epoch 42/50\n",
      "125/125 [==============================] - 1s 7ms/step - loss: -0.7279 - val_loss: -0.7031\n",
      "Epoch 43/50\n",
      "125/125 [==============================] - 1s 7ms/step - loss: -0.7292 - val_loss: -0.7038\n",
      "Epoch 44/50\n",
      "125/125 [==============================] - 1s 7ms/step - loss: -0.7304 - val_loss: -0.7031\n",
      "Epoch 45/50\n",
      "125/125 [==============================] - 1s 7ms/step - loss: -0.7309 - val_loss: -0.7047\n",
      "Epoch 46/50\n",
      "125/125 [==============================] - 1s 7ms/step - loss: -0.7316 - val_loss: -0.7051\n",
      "Epoch 47/50\n",
      "125/125 [==============================] - 1s 7ms/step - loss: -0.7314 - val_loss: -0.7048\n",
      "Epoch 48/50\n",
      "125/125 [==============================] - 1s 7ms/step - loss: -0.7333 - val_loss: -0.7050\n",
      "Epoch 49/50\n",
      "125/125 [==============================] - 1s 7ms/step - loss: -0.7332 - val_loss: -0.7053\n",
      "Epoch 50/50\n",
      "125/125 [==============================] - 1s 7ms/step - loss: -0.7344 - val_loss: -0.7050\n"
     ]
    },
    {
     "data": {
      "image/png": "[encoded data removed]",
      "text/plain": [
       "<Figure size 640x480 with 1 Axes>"
      ]
     },
     "metadata": {},
     "output_type": "display_data"
    }
   ],
   "source": [
    "from keras.models import Sequential\n",
    "from keras.layers import Dense, Dropout\n",
    "from keras.optimizers import Adam\n",
    "from keras.regularizers import l2\n",
    "from keras.callbacks import EarlyStopping\n",
    "import tensorflow as tf\n",
    "import matplotlib.pyplot as plt\n",
    "\n",
    "# create an instance of the Adam optimizer with a custom learning rate\n",
    "# opt = Adam(learning_rate=0.001)  # change this to your desired learning rate\n",
    "\n",
    "def cosine_similarity_loss(y_true, y_pred):\n",
    "    y_true = tf.nn.l2_normalize(y_true, axis=-1)\n",
    "    y_pred = tf.nn.l2_normalize(y_pred, axis=-1)\n",
    "    return -tf.reduce_mean(tf.reduce_sum(y_true * y_pred, axis=-1))\n",
    "\n",
    "# Initialize the constructor\n",
    "model = Sequential()\n",
    "\n",
    "\n",
    "# Add an first hidden layer \n",
    "model.add(Dense(1024, activation='relu', input_shape=(768,), kernel_regularizer=l2(0.00)))\n",
    "\n",
    "# Add a dropout layer for regularization\n",
    "model.add(Dropout(0.5))\n",
    "\n",
    "# Add a second hidden layer\n",
    "model.add(Dense(1024, activation='relu', kernel_regularizer=l2(0.00)))\n",
    "\n",
    "# Add a dropout layer for regularization\n",
    "model.add(Dropout(0.5))\n",
    "\n",
    "\n",
    "# Add an output layer \n",
    "model.add(Dense(384, activation='linear'))\n",
    "\n",
    "# compile model\n",
    "model.compile(loss=cosine_similarity_loss, optimizer=tf.keras.optimizers.legacy.Adam(learning_rate=0.001))\n",
    "\n",
    "# add early stopping\n",
    "es = EarlyStopping(monitor='val_loss', mode='min', verbose=1, patience=50)\n",
    "\n",
    "# fit the model to the training data\n",
    "history = model.fit(train_x, train_y, validation_data=(test_x, test_y), epochs=50, batch_size=32, callbacks=[es])\n",
    "\n",
    "# plot the training loss\n",
    "plt.plot(history.history['loss'])\n",
    "# plot the validation loss\n",
    "plt.plot(history.history['val_loss'])\n",
    "plt.title('Model loss')\n",
    "plt.ylabel('Loss')\n",
    "plt.xlabel('Epoch')\n",
    "plt.legend(['Train', 'Test'], loc='upper right')\n",
    "plt.show()"
   ]
  },
  {
   "cell_type": "code",
   "execution_count": 8,
   "metadata": {},
   "outputs": [
    {
     "name": "stdout",
     "output_type": "stream",
     "text": [
      "Average Cosine Similarity:  0.0421793743404727\n"
     ]
    }
   ],
   "source": [
    "import numpy as np\n",
    "\n",
    "def avg_cosine_similarity(vectors):\n",
    "    similarities = []\n",
    "    for i in range(len(vectors) - 1):\n",
    "        for j in range(i+1, len(vectors)):\n",
    "            similarity = np.dot(vectors[i], vectors[j]) / (np.linalg.norm(vectors[i]) * np.linalg.norm(vectors[j]))\n",
    "            similarities.append(similarity)\n",
    "    return np.mean(similarities)\n",
    "\n",
    "avg_cos_sim = avg_cosine_similarity(train_y)\n",
    "print(\"Average Cosine Similarity: \", avg_cos_sim)"
   ]
  },
  {
   "cell_type": "code",
   "execution_count": 9,
   "metadata": {},
   "outputs": [
    {
     "name": "stdout",
     "output_type": "stream",
     "text": [
      "768\n",
      "384\n"
     ]
    }
   ],
   "source": [
    "from sentence_transformers import SentenceTransformer\n",
    "import numpy as np\n",
    "mpnet_model = SentenceTransformer('sentence-transformers/all-mpnet-base-v2')\n",
    "\n",
    "encoding_target = [\"hello, how are you doing today?\"]\n",
    "mpnet_encoded_data = [mpnet_model.encode(x) for x in encoding_target]\n",
    "\n",
    "\n",
    "sbert_model = SentenceTransformer('sentence-transformers/all-MiniLM-L6-v2')\n",
    "sbert_encoded_data = [sbert_model.encode(x) for x in encoding_target]\n",
    "\n",
    "#input: mpnet encoded.\n",
    "#output: sbert encoded.\n",
    "\n",
    "#forward pass (mpnet) -> pseudo-sbert\n",
    "#cosine similarity between sbert and pseudo sbert\n",
    "\n",
    "print(len(mpnet_encoded_data[0]))\n",
    "print(len(sbert_encoded_data[0]))"
   ]
  },
  {
   "cell_type": "code",
   "execution_count": 15,
   "metadata": {},
   "outputs": [
    {
     "name": "stdout",
     "output_type": "stream",
     "text": [
      "(768,)\n",
      "1/1 [==============================] - 0s 16ms/step\n",
      "(1, 384)\n"
     ]
    }
   ],
   "source": [
    "#convert sbert_encoded_data to numpy array\n",
    "mpnet_encoded_array = np.array(mpnet_encoded_data[0])\n",
    "print(mpnet_encoded_array.shape)\n",
    "new_data = mpnet_encoded_array.reshape(1, 768)\n",
    "\n",
    "predictions = model.predict(new_data)\n",
    "print(predictions.shape)"
   ]
  }
 ],
 "metadata": {
  "kernelspec": {
   "display_name": "Python 3.9.6 64-bit",
   "language": "python",
   "name": "python3"
  },
  "language_info": {
   "codemirror_mode": {
    "name": "ipython",
    "version": 3
   },
   "file_extension": ".py",
   "mimetype": "text/x-python",
   "name": "python",
   "nbconvert_exporter": "python",
   "pygments_lexer": "ipython3",
   "version": "3.9.6"
  },
  "orig_nbformat": 4,
  "vscode": {
   "interpreter": {
    "hash": "31f2aee4e71d21fbe5cf8b01ff0e069b9275f58929596ceb00d14d90e3e16cd6"
   }
  }
 },
 "nbformat": 4,
 "nbformat_minor": 2
}
