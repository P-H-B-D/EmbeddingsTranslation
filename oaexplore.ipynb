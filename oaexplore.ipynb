{
 "cells": [
  {
   "cell_type": "code",
   "execution_count": 52,
   "metadata": {},
   "outputs": [],
   "source": [
    "#open oawiki.csv as a dataframe, only load first 5 rows\n",
    "import pandas as pd\n",
    "from sentence_transformers import SentenceTransformer\n",
    "import numpy as np\n",
    "df = pd.read_csv('oawiki.csv') #from https://cdn.openai.com/API/examples/data/vector_database_wikipedia_articles_embedded.zip , \n",
    "df['word_count'] = df['text'].str.split().str.len()\n",
    "df2=df[df['word_count'] < 256]\n",
    "df2=df2[df2['word_count'] > 10]\n",
    "df3=df2.head(10000) #from 15700 rows to 10000 rows\n",
    "df3=df3[['text','content_vector']]\n",
    "df3.to_csv('oawikishort.csv', index=False)"
   ]
  }
 ],
 "metadata": {
  "kernelspec": {
   "display_name": "Python 3.9.6 64-bit",
   "language": "python",
   "name": "python3"
  },
  "language_info": {
   "codemirror_mode": {
    "name": "ipython",
    "version": 3
   },
   "file_extension": ".py",
   "mimetype": "text/x-python",
   "name": "python",
   "nbconvert_exporter": "python",
   "pygments_lexer": "ipython3",
   "version": "3.9.6"
  },
  "orig_nbformat": 4,
  "vscode": {
   "interpreter": {
    "hash": "31f2aee4e71d21fbe5cf8b01ff0e069b9275f58929596ceb00d14d90e3e16cd6"
   }
  }
 },
 "nbformat": 4,
 "nbformat_minor": 2
}
